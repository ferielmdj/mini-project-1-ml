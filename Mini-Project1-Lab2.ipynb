{
 "cells": [
  {
   "cell_type": "markdown",
   "metadata": {},
   "source": [
    "# *Saad Dahlab University (Blida 1)*\n",
    "## *Computer Science Department*\n",
    "## *Master 1 of Intelligent System Engineering*"
   ]
  },
  {
   "cell_type": "markdown",
   "metadata": {},
   "source": [
    "# *Machine learning and Neural networks*"
   ]
  },
  {
   "cell_type": "markdown",
   "metadata": {},
   "source": [
    "# *<span style=\"color:black\"> Mini Project-1 : Sentiment Analysis using Logistic Regression</span>*"
   ]
  },
  {
   "cell_type": "markdown",
   "metadata": {},
   "source": [
    "### Team : Medjrab Feriel , Guettai Kamilya"
   ]
  },
  {
   "cell_type": "markdown",
   "metadata": {},
   "source": [
    "#### ---------------------------------------------------------------------------------------------------------------------------------------------------------------"
   ]
  },
  {
   "cell_type": "markdown",
   "metadata": {
    "colab_type": "text",
    "id": "hEMc6-8wEK0N"
   },
   "source": [
    "Imports:"
   ]
  },
  {
   "cell_type": "code",
   "execution_count": 4,
   "metadata": {},
   "outputs": [
    {
     "name": "stdout",
     "output_type": "stream",
     "text": [
      "Collecting wordcloud\n",
      "  Downloading wordcloud-1.9.4-cp311-cp311-win_amd64.whl.metadata (3.5 kB)\n",
      "Requirement already satisfied: numpy>=1.6.1 in c:\\users\\bsi\\anaconda3\\lib\\site-packages (from wordcloud) (1.26.4)\n",
      "Requirement already satisfied: pillow in c:\\users\\bsi\\anaconda3\\lib\\site-packages (from wordcloud) (10.2.0)\n",
      "Requirement already satisfied: matplotlib in c:\\users\\bsi\\anaconda3\\lib\\site-packages (from wordcloud) (3.8.0)\n",
      "Requirement already satisfied: contourpy>=1.0.1 in c:\\users\\bsi\\anaconda3\\lib\\site-packages (from matplotlib->wordcloud) (1.2.0)\n",
      "Requirement already satisfied: cycler>=0.10 in c:\\users\\bsi\\anaconda3\\lib\\site-packages (from matplotlib->wordcloud) (0.11.0)\n",
      "Requirement already satisfied: fonttools>=4.22.0 in c:\\users\\bsi\\anaconda3\\lib\\site-packages (from matplotlib->wordcloud) (4.25.0)\n",
      "Requirement already satisfied: kiwisolver>=1.0.1 in c:\\users\\bsi\\anaconda3\\lib\\site-packages (from matplotlib->wordcloud) (1.4.4)\n",
      "Requirement already satisfied: packaging>=20.0 in c:\\users\\bsi\\anaconda3\\lib\\site-packages (from matplotlib->wordcloud) (23.1)\n",
      "Requirement already satisfied: pyparsing>=2.3.1 in c:\\users\\bsi\\anaconda3\\lib\\site-packages (from matplotlib->wordcloud) (3.0.9)\n",
      "Requirement already satisfied: python-dateutil>=2.7 in c:\\users\\bsi\\anaconda3\\lib\\site-packages (from matplotlib->wordcloud) (2.8.2)\n",
      "Requirement already satisfied: six>=1.5 in c:\\users\\bsi\\anaconda3\\lib\\site-packages (from python-dateutil>=2.7->matplotlib->wordcloud) (1.16.0)\n",
      "Downloading wordcloud-1.9.4-cp311-cp311-win_amd64.whl (299 kB)\n",
      "   ---------------------------------------- 0.0/299.9 kB ? eta -:--:--\n",
      "   ---- ----------------------------------- 30.7/299.9 kB ? eta -:--:--\n",
      "   ------- ------------------------------- 61.4/299.9 kB 656.4 kB/s eta 0:00:01\n",
      "   -------------- ----------------------- 112.6/299.9 kB 819.2 kB/s eta 0:00:01\n",
      "   ---------------- --------------------- 133.1/299.9 kB 983.0 kB/s eta 0:00:01\n",
      "   ---------------------------- ----------- 215.0/299.9 kB 1.0 MB/s eta 0:00:01\n",
      "   ---------------------------------------  297.0/299.9 kB 1.1 MB/s eta 0:00:01\n",
      "   ---------------------------------------- 299.9/299.9 kB 1.1 MB/s eta 0:00:00\n",
      "Installing collected packages: wordcloud\n",
      "Successfully installed wordcloud-1.9.4\n"
     ]
    }
   ],
   "source": [
    "!pip install wordcloud"
   ]
  },
  {
   "cell_type": "code",
   "execution_count": 5,
   "metadata": {
    "colab": {
     "base_uri": "https://localhost:8080/",
     "height": 210
    },
    "colab_type": "code",
    "id": "K2XM3EX8DXju",
    "outputId": "c9d456e7-414f-44f9-bc22-407093d8c6aa"
   },
   "outputs": [
    {
     "name": "stdout",
     "output_type": "stream",
     "text": [
      "Requirement already satisfied: category_encoders==2.* in c:\\users\\bsi\\anaconda3\\lib\\site-packages (2.8.0)\n",
      "Requirement already satisfied: numpy>=1.14.0 in c:\\users\\bsi\\anaconda3\\lib\\site-packages (from category_encoders==2.*) (1.26.4)\n",
      "Requirement already satisfied: pandas>=1.0.5 in c:\\users\\bsi\\anaconda3\\lib\\site-packages (from category_encoders==2.*) (2.1.4)\n",
      "Requirement already satisfied: patsy>=0.5.1 in c:\\users\\bsi\\anaconda3\\lib\\site-packages (from category_encoders==2.*) (0.5.3)\n",
      "Requirement already satisfied: scikit-learn>=1.6.0 in c:\\users\\bsi\\anaconda3\\lib\\site-packages (from category_encoders==2.*) (1.6.0)\n",
      "Requirement already satisfied: scipy>=1.0.0 in c:\\users\\bsi\\anaconda3\\lib\\site-packages (from category_encoders==2.*) (1.11.4)\n",
      "Requirement already satisfied: statsmodels>=0.9.0 in c:\\users\\bsi\\anaconda3\\lib\\site-packages (from category_encoders==2.*) (0.14.0)\n",
      "Requirement already satisfied: python-dateutil>=2.8.2 in c:\\users\\bsi\\anaconda3\\lib\\site-packages (from pandas>=1.0.5->category_encoders==2.*) (2.8.2)\n",
      "Requirement already satisfied: pytz>=2020.1 in c:\\users\\bsi\\anaconda3\\lib\\site-packages (from pandas>=1.0.5->category_encoders==2.*) (2023.3.post1)\n",
      "Requirement already satisfied: tzdata>=2022.1 in c:\\users\\bsi\\anaconda3\\lib\\site-packages (from pandas>=1.0.5->category_encoders==2.*) (2023.3)\n",
      "Requirement already satisfied: six in c:\\users\\bsi\\anaconda3\\lib\\site-packages (from patsy>=0.5.1->category_encoders==2.*) (1.16.0)\n",
      "Requirement already satisfied: joblib>=1.2.0 in c:\\users\\bsi\\anaconda3\\lib\\site-packages (from scikit-learn>=1.6.0->category_encoders==2.*) (1.2.0)\n",
      "Requirement already satisfied: threadpoolctl>=3.1.0 in c:\\users\\bsi\\anaconda3\\lib\\site-packages (from scikit-learn>=1.6.0->category_encoders==2.*) (3.5.0)\n",
      "Requirement already satisfied: packaging>=21.3 in c:\\users\\bsi\\anaconda3\\lib\\site-packages (from statsmodels>=0.9.0->category_encoders==2.*) (23.1)\n"
     ]
    }
   ],
   "source": [
    "!pip install category_encoders==2.*"
   ]
  },
  {
   "cell_type": "code",
   "execution_count": 99,
   "metadata": {
    "colab": {},
    "colab_type": "code",
    "id": "R-yYegxkEG1H"
   },
   "outputs": [],
   "source": [
    "import pandas as pd\n",
    "import numpy as np\n",
    "import seaborn as sns\n",
    "from pylab import rcParams\n",
    "import string\n",
    "import re\n",
    "import matplotlib.pyplot as plt\n",
    "import math\n",
    "from matplotlib import rc\n",
    "from sklearn.model_selection import train_test_split\n",
    "from collections import Counter, defaultdict\n",
    "from bs4 import BeautifulSoup\n",
    "from sklearn.metrics import accuracy_score\n",
    "from sklearn.metrics import classification_report, confusion_matrix\n",
    "import nltk\n",
    "from nltk.corpus import stopwords\n",
    "from wordcloud import WordCloud\n",
    "from sklearn.feature_extraction.text import CountVectorizer, TfidfVectorizer, TfidfTransformer\n",
    "import warnings\n",
    "from bs4 import MarkupResemblesLocatorWarning\n",
    "warnings.filterwarnings(\"ignore\", category=MarkupResemblesLocatorWarning)\n"
   ]
  },
  {
   "cell_type": "code",
   "execution_count": 49,
   "metadata": {
    "colab": {
     "base_uri": "https://localhost:8080/",
     "height": 70
    },
    "colab_type": "code",
    "id": "vnxm0nnREiSK",
    "outputId": "e0659001-9a9d-4647-d802-3ed08941be76"
   },
   "outputs": [
    {
     "name": "stderr",
     "output_type": "stream",
     "text": [
      "[nltk_data] Downloading package stopwords to\n",
      "[nltk_data]     C:\\Users\\Bsi\\AppData\\Roaming\\nltk_data...\n",
      "[nltk_data]   Package stopwords is already up-to-date!\n"
     ]
    },
    {
     "data": {
      "text/plain": [
       "True"
      ]
     },
     "execution_count": 49,
     "metadata": {},
     "output_type": "execute_result"
    }
   ],
   "source": [
    "nltk.download('stopwords')"
   ]
  },
  {
   "cell_type": "code",
   "execution_count": 50,
   "metadata": {
    "colab": {},
    "colab_type": "code",
    "id": "lIMYmOZ-Erak"
   },
   "outputs": [],
   "source": [
    "df = pd.read_csv('IMDB Dataset.csv')"
   ]
  },
  {
   "cell_type": "code",
   "execution_count": 118,
   "metadata": {},
   "outputs": [
    {
     "name": "stdout",
     "output_type": "stream",
     "text": [
      "                                              review sentiment  length  \\\n",
      "0  One of the other reviewers has mentioned that ...  positive    1761   \n",
      "1  A wonderful little production. <br /><br />The...  positive     998   \n",
      "2  I thought this was a wonderful way to spend ti...  positive     926   \n",
      "3  Basically there's a family where a little boy ...  negative     748   \n",
      "4  Petter Mattei's \"Love in the Time of Money\" is...  positive    1317   \n",
      "\n",
      "                                        clean_review  word_count  \n",
      "0  [one, reviewers, mentioned, watching, oz, epis...         162  \n",
      "1  [wonderful, little, production, filming, techn...          86  \n",
      "2  [thought, wonderful, way, spend, time, hot, su...          84  \n",
      "3  [basically, family, little, boy, jake, thinks,...          64  \n",
      "4  [petter, mattei, love, time, money, visually, ...         125  \n"
     ]
    }
   ],
   "source": [
    "print(df.head())"
   ]
  },
  {
   "cell_type": "code",
   "execution_count": 117,
   "metadata": {},
   "outputs": [
    {
     "name": "stdout",
     "output_type": "stream",
     "text": [
      "<class 'pandas.core.frame.DataFrame'>\n",
      "RangeIndex: 50000 entries, 0 to 49999\n",
      "Data columns (total 5 columns):\n",
      " #   Column        Non-Null Count  Dtype \n",
      "---  ------        --------------  ----- \n",
      " 0   review        50000 non-null  object\n",
      " 1   sentiment     50000 non-null  object\n",
      " 2   length        50000 non-null  int64 \n",
      " 3   clean_review  50000 non-null  object\n",
      " 4   word_count    50000 non-null  int64 \n",
      "dtypes: int64(2), object(3)\n",
      "memory usage: 1.9+ MB\n",
      "None\n"
     ]
    }
   ],
   "source": [
    "print(df.info())"
   ]
  },
  {
   "cell_type": "code",
   "execution_count": 51,
   "metadata": {
    "colab": {
     "base_uri": "https://localhost:8080/",
     "height": 34
    },
    "colab_type": "code",
    "id": "nfAVq5iIEwHv",
    "outputId": "89d88505-5135-4585-bd3c-cc286896f2eb"
   },
   "outputs": [
    {
     "data": {
      "text/plain": [
       "(50000, 2)"
      ]
     },
     "execution_count": 51,
     "metadata": {},
     "output_type": "execute_result"
    }
   ],
   "source": [
    "df.shape"
   ]
  },
  {
   "cell_type": "code",
   "execution_count": 52,
   "metadata": {},
   "outputs": [
    {
     "name": "stdout",
     "output_type": "stream",
     "text": [
      "Columns in DataFrame: Index(['review', 'sentiment'], dtype='object')\n"
     ]
    }
   ],
   "source": [
    "print(\"Columns in DataFrame:\", df.columns)"
   ]
  },
  {
   "cell_type": "markdown",
   "metadata": {
    "colab_type": "text",
    "id": "TUnzMXdjRkOj"
   },
   "source": [
    "Data Cleaning and Exploration:"
   ]
  },
  {
   "cell_type": "code",
   "execution_count": 119,
   "metadata": {},
   "outputs": [
    {
     "name": "stdout",
     "output_type": "stream",
     "text": [
      "Missing values:\n",
      " review          0\n",
      "sentiment       0\n",
      "length          0\n",
      "clean_review    0\n",
      "word_count      0\n",
      "dtype: int64\n"
     ]
    }
   ],
   "source": [
    "print(\"Missing values:\\n\", df.isnull().sum())\n",
    "df = df.dropna()"
   ]
  },
  {
   "cell_type": "code",
   "execution_count": 129,
   "metadata": {},
   "outputs": [
    {
     "name": "stderr",
     "output_type": "stream",
     "text": [
      "C:\\Users\\Bsi\\AppData\\Local\\Temp\\ipykernel_10392\\374105115.py:1: FutureWarning: DataFrame.applymap has been deprecated. Use DataFrame.map instead.\n",
      "  df = df.applymap(lambda x: tuple(x) if isinstance(x, list) else x)\n"
     ]
    },
    {
     "name": "stdout",
     "output_type": "stream",
     "text": [
      "Duplicates: 0\n"
     ]
    }
   ],
   "source": [
    "df = df.applymap(lambda x: tuple(x) if isinstance(x, list) else x)\n",
    "print(\"Duplicates:\", df.duplicated().sum())\n",
    "df = df.drop_duplicates()\n"
   ]
  },
  {
   "cell_type": "code",
   "execution_count": 130,
   "metadata": {
    "colab": {
     "base_uri": "https://localhost:8080/",
     "height": 70
    },
    "colab_type": "code",
    "id": "Umd62HBORDKV",
    "outputId": "baae3e6d-dfe6-4728-cd1a-3f7ce7db4be1"
   },
   "outputs": [
    {
     "data": {
      "text/plain": [
       "sentiment\n",
       "positive    0.501876\n",
       "negative    0.498124\n",
       "Name: proportion, dtype: float64"
      ]
     },
     "execution_count": 130,
     "metadata": {},
     "output_type": "execute_result"
    }
   ],
   "source": [
    "#Distribution, 50% majority class baseline\n",
    "\n",
    "df['sentiment'].value_counts(True)"
   ]
  },
  {
   "cell_type": "code",
   "execution_count": 54,
   "metadata": {
    "colab": {
     "base_uri": "https://localhost:8080/",
     "height": 281
    },
    "colab_type": "code",
    "id": "hjTWB82qRUm6",
    "outputId": "cb1ddc98-fc12-490c-a018-3df0e4188e72"
   },
   "outputs": [
    {
     "data": {
      "image/png": "[encoded data removed]",
      "text/plain": [
       "<Figure size 640x480 with 1 Axes>"
      ]
     },
     "metadata": {},
     "output_type": "display_data"
    }
   ],
   "source": [
    "#Distribution bar plot\n",
    "\n",
    "ax = sns.countplot(x = 'sentiment', data=df)\n",
    "ax.set_title(\"Sentiment distribution\")\n",
    "ax.set_xticklabels(['Negative', 'Positive'])\n",
    "plt.xlabel(\"\")\n",
    "plt.show()"
   ]
  },
  {
   "cell_type": "code",
   "execution_count": 55,
   "metadata": {
    "colab": {
     "base_uri": "https://localhost:8080/",
     "height": 166
    },
    "colab_type": "code",
    "id": "yCXSdnfdRdvQ",
    "outputId": "b4ddb18e-7710-4454-98ae-afff4f181378"
   },
   "outputs": [
    {
     "data": {
      "text/html": [
       "<div>\n",
       "<style scoped>\n",
       "    .dataframe tbody tr th:only-of-type {\n",
       "        vertical-align: middle;\n",
       "    }\n",
       "\n",
       "    .dataframe tbody tr th {\n",
       "        vertical-align: top;\n",
       "    }\n",
       "\n",
       "    .dataframe thead tr th {\n",
       "        text-align: left;\n",
       "    }\n",
       "\n",
       "    .dataframe thead tr:last-of-type th {\n",
       "        text-align: right;\n",
       "    }\n",
       "</style>\n",
       "<table border=\"1\" class=\"dataframe\">\n",
       "  <thead>\n",
       "    <tr>\n",
       "      <th></th>\n",
       "      <th colspan=\"4\" halign=\"left\">review</th>\n",
       "    </tr>\n",
       "    <tr>\n",
       "      <th></th>\n",
       "      <th>count</th>\n",
       "      <th>unique</th>\n",
       "      <th>top</th>\n",
       "      <th>freq</th>\n",
       "    </tr>\n",
       "    <tr>\n",
       "      <th>sentiment</th>\n",
       "      <th></th>\n",
       "      <th></th>\n",
       "      <th></th>\n",
       "      <th></th>\n",
       "    </tr>\n",
       "  </thead>\n",
       "  <tbody>\n",
       "    <tr>\n",
       "      <th>negative</th>\n",
       "      <td>25000</td>\n",
       "      <td>24698</td>\n",
       "      <td>This show comes up with interesting locations ...</td>\n",
       "      <td>3</td>\n",
       "    </tr>\n",
       "    <tr>\n",
       "      <th>positive</th>\n",
       "      <td>25000</td>\n",
       "      <td>24884</td>\n",
       "      <td>Loved today's show!!! It was a variety and not...</td>\n",
       "      <td>5</td>\n",
       "    </tr>\n",
       "  </tbody>\n",
       "</table>\n",
       "</div>"
      ],
      "text/plain": [
       "          review                                                            \\\n",
       "           count unique                                                top   \n",
       "sentiment                                                                    \n",
       "negative   25000  24698  This show comes up with interesting locations ...   \n",
       "positive   25000  24884  Loved today's show!!! It was a variety and not...   \n",
       "\n",
       "                \n",
       "          freq  \n",
       "sentiment       \n",
       "negative     3  \n",
       "positive     5  "
      ]
     },
     "execution_count": 55,
     "metadata": {},
     "output_type": "execute_result"
    }
   ],
   "source": [
    "df.groupby('sentiment').describe()"
   ]
  },
  {
   "cell_type": "code",
   "execution_count": 56,
   "metadata": {
    "colab": {
     "base_uri": "https://localhost:8080/",
     "height": 402
    },
    "colab_type": "code",
    "id": "bpWJu68RRhKC",
    "outputId": "96c34a6c-f279-457b-fecb-bfc8fe86d9bc"
   },
   "outputs": [
    {
     "data": {
      "text/html": [
       "<div>\n",
       "<style scoped>\n",
       "    .dataframe tbody tr th:only-of-type {\n",
       "        vertical-align: middle;\n",
       "    }\n",
       "\n",
       "    .dataframe tbody tr th {\n",
       "        vertical-align: top;\n",
       "    }\n",
       "\n",
       "    .dataframe thead th {\n",
       "        text-align: right;\n",
       "    }\n",
       "</style>\n",
       "<table border=\"1\" class=\"dataframe\">\n",
       "  <thead>\n",
       "    <tr style=\"text-align: right;\">\n",
       "      <th></th>\n",
       "      <th>review</th>\n",
       "      <th>sentiment</th>\n",
       "      <th>length</th>\n",
       "    </tr>\n",
       "  </thead>\n",
       "  <tbody>\n",
       "    <tr>\n",
       "      <th>0</th>\n",
       "      <td>One of the other reviewers has mentioned that ...</td>\n",
       "      <td>positive</td>\n",
       "      <td>1761</td>\n",
       "    </tr>\n",
       "    <tr>\n",
       "      <th>1</th>\n",
       "      <td>A wonderful little production. &lt;br /&gt;&lt;br /&gt;The...</td>\n",
       "      <td>positive</td>\n",
       "      <td>998</td>\n",
       "    </tr>\n",
       "    <tr>\n",
       "      <th>2</th>\n",
       "      <td>I thought this was a wonderful way to spend ti...</td>\n",
       "      <td>positive</td>\n",
       "      <td>926</td>\n",
       "    </tr>\n",
       "    <tr>\n",
       "      <th>3</th>\n",
       "      <td>Basically there's a family where a little boy ...</td>\n",
       "      <td>negative</td>\n",
       "      <td>748</td>\n",
       "    </tr>\n",
       "    <tr>\n",
       "      <th>4</th>\n",
       "      <td>Petter Mattei's \"Love in the Time of Money\" is...</td>\n",
       "      <td>positive</td>\n",
       "      <td>1317</td>\n",
       "    </tr>\n",
       "    <tr>\n",
       "      <th>...</th>\n",
       "      <td>...</td>\n",
       "      <td>...</td>\n",
       "      <td>...</td>\n",
       "    </tr>\n",
       "    <tr>\n",
       "      <th>95</th>\n",
       "      <td>Daniel Day-Lewis is the most versatile actor a...</td>\n",
       "      <td>positive</td>\n",
       "      <td>1565</td>\n",
       "    </tr>\n",
       "    <tr>\n",
       "      <th>96</th>\n",
       "      <td>My guess would be this was originally going to...</td>\n",
       "      <td>negative</td>\n",
       "      <td>1086</td>\n",
       "    </tr>\n",
       "    <tr>\n",
       "      <th>97</th>\n",
       "      <td>Well, I like to watch bad horror B-Movies, cau...</td>\n",
       "      <td>negative</td>\n",
       "      <td>758</td>\n",
       "    </tr>\n",
       "    <tr>\n",
       "      <th>98</th>\n",
       "      <td>This IS the worst movie I have ever seen, as w...</td>\n",
       "      <td>negative</td>\n",
       "      <td>993</td>\n",
       "    </tr>\n",
       "    <tr>\n",
       "      <th>99</th>\n",
       "      <td>I have been a Mario fan for as long as I can r...</td>\n",
       "      <td>positive</td>\n",
       "      <td>2866</td>\n",
       "    </tr>\n",
       "  </tbody>\n",
       "</table>\n",
       "<p>100 rows × 3 columns</p>\n",
       "</div>"
      ],
      "text/plain": [
       "                                               review sentiment  length\n",
       "0   One of the other reviewers has mentioned that ...  positive    1761\n",
       "1   A wonderful little production. <br /><br />The...  positive     998\n",
       "2   I thought this was a wonderful way to spend ti...  positive     926\n",
       "3   Basically there's a family where a little boy ...  negative     748\n",
       "4   Petter Mattei's \"Love in the Time of Money\" is...  positive    1317\n",
       "..                                                ...       ...     ...\n",
       "95  Daniel Day-Lewis is the most versatile actor a...  positive    1565\n",
       "96  My guess would be this was originally going to...  negative    1086\n",
       "97  Well, I like to watch bad horror B-Movies, cau...  negative     758\n",
       "98  This IS the worst movie I have ever seen, as w...  negative     993\n",
       "99  I have been a Mario fan for as long as I can r...  positive    2866\n",
       "\n",
       "[100 rows x 3 columns]"
      ]
     },
     "execution_count": 56,
     "metadata": {},
     "output_type": "execute_result"
    }
   ],
   "source": [
    "#Create a length column\n",
    "\n",
    "df['length'] = df['review'].apply(len)\n",
    "df.head(100)"
   ]
  },
  {
   "cell_type": "code",
   "execution_count": 57,
   "metadata": {
    "colab": {
     "base_uri": "https://localhost:8080/",
     "height": 265
    },
    "colab_type": "code",
    "id": "4PngA_R6R_BG",
    "outputId": "026bc9fd-6a57-40d7-f7fb-aa12a0bba494"
   },
   "outputs": [
    {
     "data": {
      "image/png": "[encoded data removed]",
      "text/plain": [
       "<Figure size 640x480 with 1 Axes>"
      ]
     },
     "metadata": {},
     "output_type": "display_data"
    }
   ],
   "source": [
    "#Length histogram\n",
    "\n",
    "df['length'].plot.hist(bins = 100)\n",
    "plt.show()"
   ]
  },
  {
   "cell_type": "code",
   "execution_count": 58,
   "metadata": {
    "colab": {
     "base_uri": "https://localhost:8080/",
     "height": 301
    },
    "colab_type": "code",
    "id": "JCm2Cr55SKcR",
    "outputId": "abc8f5ab-301f-46d5-f4ee-2f1fa7528aae"
   },
   "outputs": [
    {
     "data": {
      "image/png": "[encoded data removed]",
      "text/plain": [
       "<Figure size 1200x400 with 2 Axes>"
      ]
     },
     "metadata": {},
     "output_type": "display_data"
    }
   ],
   "source": [
    "#length distribution by classes\n",
    "\n",
    "df.hist(column='length', by='sentiment', bins=100, figsize=(12,4))\n",
    "plt.show()"
   ]
  },
  {
   "cell_type": "markdown",
   "metadata": {},
   "source": [
    "data preprocessing:"
   ]
  },
  {
   "cell_type": "code",
   "execution_count": 59,
   "metadata": {
    "colab": {},
    "colab_type": "code",
    "id": "UAwJaYOdEzPr"
   },
   "outputs": [],
   "source": [
    "def clean_text(X):\n",
    "  #remove HTML tags\n",
    "  X = BeautifulSoup(X).get_text()\n",
    "\n",
    "  #remove all non letters from text\n",
    "  letters_only = re.sub(\"[^a-zA-Z]\", \" \", X) \n",
    "\n",
    "  #lower case, split words\n",
    "  words = letters_only.lower().split()\n",
    "\n",
    "  #stopwords variable\n",
    "  stops = set(stopwords.words('english'))\n",
    "\n",
    "  #Remove stop words and return\n",
    "  return [w for w in words if not w in stops]"
   ]
  },
  {
   "cell_type": "code",
   "execution_count": 60,
   "metadata": {
    "colab": {
     "base_uri": "https://localhost:8080/",
     "height": 195
    },
    "colab_type": "code",
    "id": "Ea4Fz1jGFdgi",
    "outputId": "71e01021-67a9-4c6f-e842-8099ba9b8843"
   },
   "outputs": [
    {
     "data": {
      "text/html": [
       "<div>\n",
       "<style scoped>\n",
       "    .dataframe tbody tr th:only-of-type {\n",
       "        vertical-align: middle;\n",
       "    }\n",
       "\n",
       "    .dataframe tbody tr th {\n",
       "        vertical-align: top;\n",
       "    }\n",
       "\n",
       "    .dataframe thead th {\n",
       "        text-align: right;\n",
       "    }\n",
       "</style>\n",
       "<table border=\"1\" class=\"dataframe\">\n",
       "  <thead>\n",
       "    <tr style=\"text-align: right;\">\n",
       "      <th></th>\n",
       "      <th>review</th>\n",
       "      <th>sentiment</th>\n",
       "      <th>length</th>\n",
       "      <th>clean_review</th>\n",
       "      <th>word_count</th>\n",
       "    </tr>\n",
       "  </thead>\n",
       "  <tbody>\n",
       "    <tr>\n",
       "      <th>0</th>\n",
       "      <td>One of the other reviewers has mentioned that ...</td>\n",
       "      <td>positive</td>\n",
       "      <td>1761</td>\n",
       "      <td>[one, reviewers, mentioned, watching, oz, epis...</td>\n",
       "      <td>162</td>\n",
       "    </tr>\n",
       "    <tr>\n",
       "      <th>1</th>\n",
       "      <td>A wonderful little production. &lt;br /&gt;&lt;br /&gt;The...</td>\n",
       "      <td>positive</td>\n",
       "      <td>998</td>\n",
       "      <td>[wonderful, little, production, filming, techn...</td>\n",
       "      <td>86</td>\n",
       "    </tr>\n",
       "    <tr>\n",
       "      <th>2</th>\n",
       "      <td>I thought this was a wonderful way to spend ti...</td>\n",
       "      <td>positive</td>\n",
       "      <td>926</td>\n",
       "      <td>[thought, wonderful, way, spend, time, hot, su...</td>\n",
       "      <td>84</td>\n",
       "    </tr>\n",
       "    <tr>\n",
       "      <th>3</th>\n",
       "      <td>Basically there's a family where a little boy ...</td>\n",
       "      <td>negative</td>\n",
       "      <td>748</td>\n",
       "      <td>[basically, family, little, boy, jake, thinks,...</td>\n",
       "      <td>64</td>\n",
       "    </tr>\n",
       "    <tr>\n",
       "      <th>4</th>\n",
       "      <td>Petter Mattei's \"Love in the Time of Money\" is...</td>\n",
       "      <td>positive</td>\n",
       "      <td>1317</td>\n",
       "      <td>[petter, mattei, love, time, money, visually, ...</td>\n",
       "      <td>125</td>\n",
       "    </tr>\n",
       "  </tbody>\n",
       "</table>\n",
       "</div>"
      ],
      "text/plain": [
       "                                              review sentiment  length  \\\n",
       "0  One of the other reviewers has mentioned that ...  positive    1761   \n",
       "1  A wonderful little production. <br /><br />The...  positive     998   \n",
       "2  I thought this was a wonderful way to spend ti...  positive     926   \n",
       "3  Basically there's a family where a little boy ...  negative     748   \n",
       "4  Petter Mattei's \"Love in the Time of Money\" is...  positive    1317   \n",
       "\n",
       "                                        clean_review  word_count  \n",
       "0  [one, reviewers, mentioned, watching, oz, epis...         162  \n",
       "1  [wonderful, little, production, filming, techn...          86  \n",
       "2  [thought, wonderful, way, spend, time, hot, su...          84  \n",
       "3  [basically, family, little, boy, jake, thinks,...          64  \n",
       "4  [petter, mattei, love, time, money, visually, ...         125  "
      ]
     },
     "execution_count": 60,
     "metadata": {},
     "output_type": "execute_result"
    }
   ],
   "source": [
    "#clean dataframe\n",
    "#create word count feature\n",
    "\n",
    "df['clean_review'] = df['review'].apply(clean_text)\n",
    "df['word_count'] = df['clean_review'].apply(len)\n",
    "df.head()"
   ]
  },
  {
   "cell_type": "code",
   "execution_count": 61,
   "metadata": {
    "colab": {},
    "colab_type": "code",
    "id": "0RQQkc0oF-iq"
   },
   "outputs": [],
   "source": [
    "#tokenize data\n",
    "\n",
    "bow_transform = CountVectorizer(analyzer=clean_text).fit(df['review'])"
   ]
  },
  {
   "cell_type": "code",
   "execution_count": 62,
   "metadata": {
    "colab": {
     "base_uri": "https://localhost:8080/",
     "height": 140
    },
    "colab_type": "code",
    "id": "5TcXDt6qJMlv",
    "outputId": "0292204d-b429-47dc-c42e-3c8a30930c07"
   },
   "outputs": [
    {
     "name": "stdout",
     "output_type": "stream",
     "text": [
      "CountVectorizer(analyzer=<function clean_text at 0x0000029BAC0772E0>)\n"
     ]
    }
   ],
   "source": [
    "#conversion to numerical format\n",
    "\n",
    "print(bow_transform)\n"
   ]
  },
  {
   "cell_type": "code",
   "execution_count": 63,
   "metadata": {
    "colab": {},
    "colab_type": "code",
    "id": "mYmTirlKGY8x"
   },
   "outputs": [],
   "source": [
    "review_bow = bow_transform.transform(df['review'])"
   ]
  },
  {
   "cell_type": "code",
   "execution_count": 64,
   "metadata": {
    "colab": {
     "base_uri": "https://localhost:8080/",
     "height": 914
    },
    "colab_type": "code",
    "id": "veGZkElwGzDU",
    "outputId": "930e2306-1a69-4790-e2cb-6bdacf24ef65"
   },
   "outputs": [
    {
     "name": "stdout",
     "output_type": "stream",
     "text": [
      "  (0, 581)\t1\n",
      "  (0, 1460)\t1\n",
      "  (0, 1570)\t1\n",
      "  (0, 3850)\t1\n",
      "  (0, 4452)\t1\n",
      "  (0, 4663)\t1\n",
      "  (0, 5353)\t1\n",
      "  (0, 5750)\t2\n",
      "  (0, 7499)\t1\n",
      "  (0, 8916)\t1\n",
      "  (0, 11552)\t1\n",
      "  (0, 12672)\t1\n",
      "  (0, 14166)\t1\n",
      "  (0, 14720)\t1\n",
      "  (0, 15584)\t1\n",
      "  (0, 16000)\t2\n",
      "  (0, 16153)\t1\n",
      "  (0, 16157)\t1\n",
      "  (0, 17252)\t1\n",
      "  (0, 20087)\t1\n",
      "  (0, 21220)\t1\n",
      "  (0, 21245)\t1\n",
      "  (0, 21564)\t1\n",
      "  (0, 21595)\t1\n",
      "  (0, 23257)\t1\n",
      "  :\t:\n",
      "  (49999, 59160)\t3\n",
      "  (49999, 59311)\t1\n",
      "  (49999, 60617)\t1\n",
      "  (49999, 61351)\t1\n",
      "  (49999, 63095)\t1\n",
      "  (49999, 67884)\t1\n",
      "  (49999, 73711)\t1\n",
      "  (49999, 73718)\t1\n",
      "  (49999, 77486)\t1\n",
      "  (49999, 77552)\t1\n",
      "  (49999, 77782)\t1\n",
      "  (49999, 78773)\t2\n",
      "  (49999, 83877)\t1\n",
      "  (49999, 84565)\t1\n",
      "  (49999, 91815)\t1\n",
      "  (49999, 92274)\t1\n",
      "  (49999, 94017)\t1\n",
      "  (49999, 97597)\t1\n",
      "  (49999, 97614)\t1\n",
      "  (49999, 97728)\t1\n",
      "  (49999, 98021)\t1\n",
      "  (49999, 99644)\t1\n",
      "  (49999, 99647)\t2\n",
      "  (49999, 99667)\t1\n",
      "  (49999, 100485)\t1\n"
     ]
    }
   ],
   "source": [
    "print(review_bow)"
   ]
  },
  {
   "cell_type": "code",
   "execution_count": 67,
   "metadata": {
    "colab": {
     "base_uri": "https://localhost:8080/",
     "height": 52
    },
    "colab_type": "code",
    "id": "kCSot7x4Towx",
    "outputId": "5611157e-4fe3-4917-d734-aa121557b34a"
   },
   "outputs": [
    {
     "name": "stdout",
     "output_type": "stream",
     "text": [
      "accessability\n",
      "easily\n"
     ]
    }
   ],
   "source": [
    "print(bow_transform.get_feature_names_out()[471])  # Word at index 471 \n",
    "print(bow_transform.get_feature_names_out()[26836])  # Word at index 26836 "
   ]
  },
  {
   "cell_type": "code",
   "execution_count": 68,
   "metadata": {
    "colab": {},
    "colab_type": "code",
    "id": "wZ-xiTwAG6vh"
   },
   "outputs": [],
   "source": [
    "#Term frequency: how frequently a term is used / length\n",
    "#IDF: Inverse Document Frequency, measures importance of the term\n",
    "#rare words have more importance\n",
    "\n",
    "\n",
    "tfidf_transformer = TfidfTransformer().fit(review_bow)\n",
    "tfidf1 = tfidf_transformer.transform(review_bow)  #transform bow"
   ]
  },
  {
   "cell_type": "code",
   "execution_count": 70,
   "metadata": {
    "colab": {
     "base_uri": "https://localhost:8080/",
     "height": 34
    },
    "colab_type": "code",
    "id": "HI63jie4HUNq",
    "outputId": "ff2eacb5-013b-4c19-a494-ec7d7db1a584"
   },
   "outputs": [
    {
     "data": {
      "text/plain": [
       "(39000, 11000, 50000)"
      ]
     },
     "execution_count": 70,
     "metadata": {},
     "output_type": "execute_result"
    }
   ],
   "source": [
    "#Split into train and test data\n",
    "\n",
    "from sklearn.model_selection import train_test_split\n",
    "\n",
    "X_train, X_test, y_train, y_test = train_test_split(df['review'], df['sentiment'], test_size=0.22, random_state=42)\n",
    "\n",
    "#length of train, test, and df\n",
    "len(X_train), len(X_test), len(X_train) + len(X_test)"
   ]
  },
  {
   "cell_type": "code",
   "execution_count": 71,
   "metadata": {
    "colab": {
     "base_uri": "https://localhost:8080/",
     "height": 122
    },
    "colab_type": "code",
    "id": "b3N50LkUH8Vd",
    "outputId": "85bc5c7e-43f5-4e9b-c978-171d8480e32d"
   },
   "outputs": [
    {
     "data": {
      "text/plain": [
       "22070    Now, let me see if I have this correct, a luna...\n",
       "45536    I saw this director's \"Woman On The Beach\" and...\n",
       "15181    Mr Perlman gives a standout performance (as us...\n",
       "4593     I knew five minutes after the monster made his...\n",
       "47825    The Muppet movie is an instant classic. I reme...\n",
       "Name: review, dtype: object"
      ]
     },
     "execution_count": 71,
     "metadata": {},
     "output_type": "execute_result"
    }
   ],
   "source": [
    "X_train.head()"
   ]
  },
  {
   "cell_type": "markdown",
   "metadata": {
    "colab_type": "text",
    "id": "0hmoeuqHJzz0"
   },
   "source": [
    "Predictive Models:"
   ]
  },
  {
   "cell_type": "code",
   "execution_count": 109,
   "metadata": {
    "colab": {},
    "colab_type": "code",
    "id": "ddsOidgaH-96"
   },
   "outputs": [],
   "source": [
    "#Predicting & Stats Function\n",
    "def pred(predicted,compare):\n",
    "    cm = pd.crosstab(compare,predicted)\n",
    "    TN = cm.iloc[0,0]\n",
    "    FN = cm.iloc[1,0]\n",
    "    TP = cm.iloc[1,1]\n",
    "    FP = cm.iloc[0,1]\n",
    "    \n",
    "    ##check accuracy of model\n",
    "    print(\"Classification Report:\")\n",
    "    print('Accuracy : ', round(((TP+TN)*100)/(TP+TN+FP+FN),2))\n",
    "    print()\n",
    "    print('False Negative Rate : ',round((FN*100)/(FN+TP),2))\n",
    "    print()\n",
    "    print('False Postive Rate : ',round((FP*100)/(FP+TN),2))\n",
    "    print()\n",
    "    print(classification_report(compare,predicted))"
   ]
  },
  {
   "cell_type": "code",
   "execution_count": 110,
   "metadata": {
    "colab": {
     "base_uri": "https://localhost:8080/",
     "height": 422
    },
    "colab_type": "code",
    "id": "ilKbsJtRJyT1",
    "outputId": "8694a349-7c30-4b93-d62e-b888bc3c1e9d"
   },
   "outputs": [
    {
     "data": {
      "text/html": [
       "<style>#sk-container-id-2 {\n",
       "  /* Definition of color scheme common for light and dark mode */\n",
       "  --sklearn-color-text: #000;\n",
       "  --sklearn-color-text-muted: #666;\n",
       "  --sklearn-color-line: gray;\n",
       "  /* Definition of color scheme for unfitted estimators */\n",
       "  --sklearn-color-unfitted-level-0: #fff5e6;\n",
       "  --sklearn-color-unfitted-level-1: #f6e4d2;\n",
       "  --sklearn-color-unfitted-level-2: #ffe0b3;\n",
       "  --sklearn-color-unfitted-level-3: chocolate;\n",
       "  /* Definition of color scheme for fitted estimators */\n",
       "  --sklearn-color-fitted-level-0: #f0f8ff;\n",
       "  --sklearn-color-fitted-level-1: #d4ebff;\n",
       "  --sklearn-color-fitted-level-2: #b3dbfd;\n",
       "  --sklearn-color-fitted-level-3: cornflowerblue;\n",
       "\n",
       "  /* Specific color for light theme */\n",
       "  --sklearn-color-text-on-default-background: var(--sg-text-color, var(--theme-code-foreground, var(--jp-content-font-color1, black)));\n",
       "  --sklearn-color-background: var(--sg-background-color, var(--theme-background, var(--jp-layout-color0, white)));\n",
       "  --sklearn-color-border-box: var(--sg-text-color, var(--theme-code-foreground, var(--jp-content-font-color1, black)));\n",
       "  --sklearn-color-icon: #696969;\n",
       "\n",
       "  @media (prefers-color-scheme: dark) {\n",
       "    /* Redefinition of color scheme for dark theme */\n",
       "    --sklearn-color-text-on-default-background: var(--sg-text-color, var(--theme-code-foreground, var(--jp-content-font-color1, white)));\n",
       "    --sklearn-color-background: var(--sg-background-color, var(--theme-background, var(--jp-layout-color0, #111)));\n",
       "    --sklearn-color-border-box: var(--sg-text-color, var(--theme-code-foreground, var(--jp-content-font-color1, white)));\n",
       "    --sklearn-color-icon: #878787;\n",
       "  }\n",
       "}\n",
       "\n",
       "#sk-container-id-2 {\n",
       "  color: var(--sklearn-color-text);\n",
       "}\n",
       "\n",
       "#sk-container-id-2 pre {\n",
       "  padding: 0;\n",
       "}\n",
       "\n",
       "#sk-container-id-2 input.sk-hidden--visually {\n",
       "  border: 0;\n",
       "  clip: rect(1px 1px 1px 1px);\n",
       "  clip: rect(1px, 1px, 1px, 1px);\n",
       "  height: 1px;\n",
       "  margin: -1px;\n",
       "  overflow: hidden;\n",
       "  padding: 0;\n",
       "  position: absolute;\n",
       "  width: 1px;\n",
       "}\n",
       "\n",
       "#sk-container-id-2 div.sk-dashed-wrapped {\n",
       "  border: 1px dashed var(--sklearn-color-line);\n",
       "  margin: 0 0.4em 0.5em 0.4em;\n",
       "  box-sizing: border-box;\n",
       "  padding-bottom: 0.4em;\n",
       "  background-color: var(--sklearn-color-background);\n",
       "}\n",
       "\n",
       "#sk-container-id-2 div.sk-container {\n",
       "  /* jupyter's `normalize.less` sets `[hidden] { display: none; }`\n",
       "     but bootstrap.min.css set `[hidden] { display: none !important; }`\n",
       "     so we also need the `!important` here to be able to override the\n",
       "     default hidden behavior on the sphinx rendered scikit-learn.org.\n",
       "     See: https://github.com/scikit-learn/scikit-learn/issues/21755 */\n",
       "  display: inline-block !important;\n",
       "  position: relative;\n",
       "}\n",
       "\n",
       "#sk-container-id-2 div.sk-text-repr-fallback {\n",
       "  display: none;\n",
       "}\n",
       "\n",
       "div.sk-parallel-item,\n",
       "div.sk-serial,\n",
       "div.sk-item {\n",
       "  /* draw centered vertical line to link estimators */\n",
       "  background-image: linear-gradient(var(--sklearn-color-text-on-default-background), var(--sklearn-color-text-on-default-background));\n",
       "  background-size: 2px 100%;\n",
       "  background-repeat: no-repeat;\n",
       "  background-position: center center;\n",
       "}\n",
       "\n",
       "/* Parallel-specific style estimator block */\n",
       "\n",
       "#sk-container-id-2 div.sk-parallel-item::after {\n",
       "  content: \"\";\n",
       "  width: 100%;\n",
       "  border-bottom: 2px solid var(--sklearn-color-text-on-default-background);\n",
       "  flex-grow: 1;\n",
       "}\n",
       "\n",
       "#sk-container-id-2 div.sk-parallel {\n",
       "  display: flex;\n",
       "  align-items: stretch;\n",
       "  justify-content: center;\n",
       "  background-color: var(--sklearn-color-background);\n",
       "  position: relative;\n",
       "}\n",
       "\n",
       "#sk-container-id-2 div.sk-parallel-item {\n",
       "  display: flex;\n",
       "  flex-direction: column;\n",
       "}\n",
       "\n",
       "#sk-container-id-2 div.sk-parallel-item:first-child::after {\n",
       "  align-self: flex-end;\n",
       "  width: 50%;\n",
       "}\n",
       "\n",
       "#sk-container-id-2 div.sk-parallel-item:last-child::after {\n",
       "  align-self: flex-start;\n",
       "  width: 50%;\n",
       "}\n",
       "\n",
       "#sk-container-id-2 div.sk-parallel-item:only-child::after {\n",
       "  width: 0;\n",
       "}\n",
       "\n",
       "/* Serial-specific style estimator block */\n",
       "\n",
       "#sk-container-id-2 div.sk-serial {\n",
       "  display: flex;\n",
       "  flex-direction: column;\n",
       "  align-items: center;\n",
       "  background-color: var(--sklearn-color-background);\n",
       "  padding-right: 1em;\n",
       "  padding-left: 1em;\n",
       "}\n",
       "\n",
       "\n",
       "/* Toggleable style: style used for estimator/Pipeline/ColumnTransformer box that is\n",
       "clickable and can be expanded/collapsed.\n",
       "- Pipeline and ColumnTransformer use this feature and define the default style\n",
       "- Estimators will overwrite some part of the style using the `sk-estimator` class\n",
       "*/\n",
       "\n",
       "/* Pipeline and ColumnTransformer style (default) */\n",
       "\n",
       "#sk-container-id-2 div.sk-toggleable {\n",
       "  /* Default theme specific background. It is overwritten whether we have a\n",
       "  specific estimator or a Pipeline/ColumnTransformer */\n",
       "  background-color: var(--sklearn-color-background);\n",
       "}\n",
       "\n",
       "/* Toggleable label */\n",
       "#sk-container-id-2 label.sk-toggleable__label {\n",
       "  cursor: pointer;\n",
       "  display: flex;\n",
       "  width: 100%;\n",
       "  margin-bottom: 0;\n",
       "  padding: 0.5em;\n",
       "  box-sizing: border-box;\n",
       "  text-align: center;\n",
       "  align-items: start;\n",
       "  justify-content: space-between;\n",
       "  gap: 0.5em;\n",
       "}\n",
       "\n",
       "#sk-container-id-2 label.sk-toggleable__label .caption {\n",
       "  font-size: 0.6rem;\n",
       "  font-weight: lighter;\n",
       "  color: var(--sklearn-color-text-muted);\n",
       "}\n",
       "\n",
       "#sk-container-id-2 label.sk-toggleable__label-arrow:before {\n",
       "  /* Arrow on the left of the label */\n",
       "  content: \"▸\";\n",
       "  float: left;\n",
       "  margin-right: 0.25em;\n",
       "  color: var(--sklearn-color-icon);\n",
       "}\n",
       "\n",
       "#sk-container-id-2 label.sk-toggleable__label-arrow:hover:before {\n",
       "  color: var(--sklearn-color-text);\n",
       "}\n",
       "\n",
       "/* Toggleable content - dropdown */\n",
       "\n",
       "#sk-container-id-2 div.sk-toggleable__content {\n",
       "  max-height: 0;\n",
       "  max-width: 0;\n",
       "  overflow: hidden;\n",
       "  text-align: left;\n",
       "  /* unfitted */\n",
       "  background-color: var(--sklearn-color-unfitted-level-0);\n",
       "}\n",
       "\n",
       "#sk-container-id-2 div.sk-toggleable__content.fitted {\n",
       "  /* fitted */\n",
       "  background-color: var(--sklearn-color-fitted-level-0);\n",
       "}\n",
       "\n",
       "#sk-container-id-2 div.sk-toggleable__content pre {\n",
       "  margin: 0.2em;\n",
       "  border-radius: 0.25em;\n",
       "  color: var(--sklearn-color-text);\n",
       "  /* unfitted */\n",
       "  background-color: var(--sklearn-color-unfitted-level-0);\n",
       "}\n",
       "\n",
       "#sk-container-id-2 div.sk-toggleable__content.fitted pre {\n",
       "  /* unfitted */\n",
       "  background-color: var(--sklearn-color-fitted-level-0);\n",
       "}\n",
       "\n",
       "#sk-container-id-2 input.sk-toggleable__control:checked~div.sk-toggleable__content {\n",
       "  /* Expand drop-down */\n",
       "  max-height: 200px;\n",
       "  max-width: 100%;\n",
       "  overflow: auto;\n",
       "}\n",
       "\n",
       "#sk-container-id-2 input.sk-toggleable__control:checked~label.sk-toggleable__label-arrow:before {\n",
       "  content: \"▾\";\n",
       "}\n",
       "\n",
       "/* Pipeline/ColumnTransformer-specific style */\n",
       "\n",
       "#sk-container-id-2 div.sk-label input.sk-toggleable__control:checked~label.sk-toggleable__label {\n",
       "  color: var(--sklearn-color-text);\n",
       "  background-color: var(--sklearn-color-unfitted-level-2);\n",
       "}\n",
       "\n",
       "#sk-container-id-2 div.sk-label.fitted input.sk-toggleable__control:checked~label.sk-toggleable__label {\n",
       "  background-color: var(--sklearn-color-fitted-level-2);\n",
       "}\n",
       "\n",
       "/* Estimator-specific style */\n",
       "\n",
       "/* Colorize estimator box */\n",
       "#sk-container-id-2 div.sk-estimator input.sk-toggleable__control:checked~label.sk-toggleable__label {\n",
       "  /* unfitted */\n",
       "  background-color: var(--sklearn-color-unfitted-level-2);\n",
       "}\n",
       "\n",
       "#sk-container-id-2 div.sk-estimator.fitted input.sk-toggleable__control:checked~label.sk-toggleable__label {\n",
       "  /* fitted */\n",
       "  background-color: var(--sklearn-color-fitted-level-2);\n",
       "}\n",
       "\n",
       "#sk-container-id-2 div.sk-label label.sk-toggleable__label,\n",
       "#sk-container-id-2 div.sk-label label {\n",
       "  /* The background is the default theme color */\n",
       "  color: var(--sklearn-color-text-on-default-background);\n",
       "}\n",
       "\n",
       "/* On hover, darken the color of the background */\n",
       "#sk-container-id-2 div.sk-label:hover label.sk-toggleable__label {\n",
       "  color: var(--sklearn-color-text);\n",
       "  background-color: var(--sklearn-color-unfitted-level-2);\n",
       "}\n",
       "\n",
       "/* Label box, darken color on hover, fitted */\n",
       "#sk-container-id-2 div.sk-label.fitted:hover label.sk-toggleable__label.fitted {\n",
       "  color: var(--sklearn-color-text);\n",
       "  background-color: var(--sklearn-color-fitted-level-2);\n",
       "}\n",
       "\n",
       "/* Estimator label */\n",
       "\n",
       "#sk-container-id-2 div.sk-label label {\n",
       "  font-family: monospace;\n",
       "  font-weight: bold;\n",
       "  display: inline-block;\n",
       "  line-height: 1.2em;\n",
       "}\n",
       "\n",
       "#sk-container-id-2 div.sk-label-container {\n",
       "  text-align: center;\n",
       "}\n",
       "\n",
       "/* Estimator-specific */\n",
       "#sk-container-id-2 div.sk-estimator {\n",
       "  font-family: monospace;\n",
       "  border: 1px dotted var(--sklearn-color-border-box);\n",
       "  border-radius: 0.25em;\n",
       "  box-sizing: border-box;\n",
       "  margin-bottom: 0.5em;\n",
       "  /* unfitted */\n",
       "  background-color: var(--sklearn-color-unfitted-level-0);\n",
       "}\n",
       "\n",
       "#sk-container-id-2 div.sk-estimator.fitted {\n",
       "  /* fitted */\n",
       "  background-color: var(--sklearn-color-fitted-level-0);\n",
       "}\n",
       "\n",
       "/* on hover */\n",
       "#sk-container-id-2 div.sk-estimator:hover {\n",
       "  /* unfitted */\n",
       "  background-color: var(--sklearn-color-unfitted-level-2);\n",
       "}\n",
       "\n",
       "#sk-container-id-2 div.sk-estimator.fitted:hover {\n",
       "  /* fitted */\n",
       "  background-color: var(--sklearn-color-fitted-level-2);\n",
       "}\n",
       "\n",
       "/* Specification for estimator info (e.g. \"i\" and \"?\") */\n",
       "\n",
       "/* Common style for \"i\" and \"?\" */\n",
       "\n",
       ".sk-estimator-doc-link,\n",
       "a:link.sk-estimator-doc-link,\n",
       "a:visited.sk-estimator-doc-link {\n",
       "  float: right;\n",
       "  font-size: smaller;\n",
       "  line-height: 1em;\n",
       "  font-family: monospace;\n",
       "  background-color: var(--sklearn-color-background);\n",
       "  border-radius: 1em;\n",
       "  height: 1em;\n",
       "  width: 1em;\n",
       "  text-decoration: none !important;\n",
       "  margin-left: 0.5em;\n",
       "  text-align: center;\n",
       "  /* unfitted */\n",
       "  border: var(--sklearn-color-unfitted-level-1) 1pt solid;\n",
       "  color: var(--sklearn-color-unfitted-level-1);\n",
       "}\n",
       "\n",
       ".sk-estimator-doc-link.fitted,\n",
       "a:link.sk-estimator-doc-link.fitted,\n",
       "a:visited.sk-estimator-doc-link.fitted {\n",
       "  /* fitted */\n",
       "  border: var(--sklearn-color-fitted-level-1) 1pt solid;\n",
       "  color: var(--sklearn-color-fitted-level-1);\n",
       "}\n",
       "\n",
       "/* On hover */\n",
       "div.sk-estimator:hover .sk-estimator-doc-link:hover,\n",
       ".sk-estimator-doc-link:hover,\n",
       "div.sk-label-container:hover .sk-estimator-doc-link:hover,\n",
       ".sk-estimator-doc-link:hover {\n",
       "  /* unfitted */\n",
       "  background-color: var(--sklearn-color-unfitted-level-3);\n",
       "  color: var(--sklearn-color-background);\n",
       "  text-decoration: none;\n",
       "}\n",
       "\n",
       "div.sk-estimator.fitted:hover .sk-estimator-doc-link.fitted:hover,\n",
       ".sk-estimator-doc-link.fitted:hover,\n",
       "div.sk-label-container:hover .sk-estimator-doc-link.fitted:hover,\n",
       ".sk-estimator-doc-link.fitted:hover {\n",
       "  /* fitted */\n",
       "  background-color: var(--sklearn-color-fitted-level-3);\n",
       "  color: var(--sklearn-color-background);\n",
       "  text-decoration: none;\n",
       "}\n",
       "\n",
       "/* Span, style for the box shown on hovering the info icon */\n",
       ".sk-estimator-doc-link span {\n",
       "  display: none;\n",
       "  z-index: 9999;\n",
       "  position: relative;\n",
       "  font-weight: normal;\n",
       "  right: .2ex;\n",
       "  padding: .5ex;\n",
       "  margin: .5ex;\n",
       "  width: min-content;\n",
       "  min-width: 20ex;\n",
       "  max-width: 50ex;\n",
       "  color: var(--sklearn-color-text);\n",
       "  box-shadow: 2pt 2pt 4pt #999;\n",
       "  /* unfitted */\n",
       "  background: var(--sklearn-color-unfitted-level-0);\n",
       "  border: .5pt solid var(--sklearn-color-unfitted-level-3);\n",
       "}\n",
       "\n",
       ".sk-estimator-doc-link.fitted span {\n",
       "  /* fitted */\n",
       "  background: var(--sklearn-color-fitted-level-0);\n",
       "  border: var(--sklearn-color-fitted-level-3);\n",
       "}\n",
       "\n",
       ".sk-estimator-doc-link:hover span {\n",
       "  display: block;\n",
       "}\n",
       "\n",
       "/* \"?\"-specific style due to the `<a>` HTML tag */\n",
       "\n",
       "#sk-container-id-2 a.estimator_doc_link {\n",
       "  float: right;\n",
       "  font-size: 1rem;\n",
       "  line-height: 1em;\n",
       "  font-family: monospace;\n",
       "  background-color: var(--sklearn-color-background);\n",
       "  border-radius: 1rem;\n",
       "  height: 1rem;\n",
       "  width: 1rem;\n",
       "  text-decoration: none;\n",
       "  /* unfitted */\n",
       "  color: var(--sklearn-color-unfitted-level-1);\n",
       "  border: var(--sklearn-color-unfitted-level-1) 1pt solid;\n",
       "}\n",
       "\n",
       "#sk-container-id-2 a.estimator_doc_link.fitted {\n",
       "  /* fitted */\n",
       "  border: var(--sklearn-color-fitted-level-1) 1pt solid;\n",
       "  color: var(--sklearn-color-fitted-level-1);\n",
       "}\n",
       "\n",
       "/* On hover */\n",
       "#sk-container-id-2 a.estimator_doc_link:hover {\n",
       "  /* unfitted */\n",
       "  background-color: var(--sklearn-color-unfitted-level-3);\n",
       "  color: var(--sklearn-color-background);\n",
       "  text-decoration: none;\n",
       "}\n",
       "\n",
       "#sk-container-id-2 a.estimator_doc_link.fitted:hover {\n",
       "  /* fitted */\n",
       "  background-color: var(--sklearn-color-fitted-level-3);\n",
       "}\n",
       "</style><div id=\"sk-container-id-2\" class=\"sk-top-container\"><div class=\"sk-text-repr-fallback\"><pre>Pipeline(steps=[(&#x27;bow&#x27;, CountVectorizer()), (&#x27;tfidf&#x27;, TfidfTransformer()),\n",
       "                (&#x27;classifier&#x27;, LogisticRegression(random_state=101))])</pre><b>In a Jupyter environment, please rerun this cell to show the HTML representation or trust the notebook. <br />On GitHub, the HTML representation is unable to render, please try loading this page with nbviewer.org.</b></div><div class=\"sk-container\" hidden><div class=\"sk-item sk-dashed-wrapped\"><div class=\"sk-label-container\"><div class=\"sk-label fitted sk-toggleable\"><input class=\"sk-toggleable__control sk-hidden--visually\" id=\"sk-estimator-id-5\" type=\"checkbox\" ><label for=\"sk-estimator-id-5\" class=\"sk-toggleable__label fitted sk-toggleable__label-arrow\"><div><div>Pipeline</div></div><div><a class=\"sk-estimator-doc-link fitted\" rel=\"noreferrer\" target=\"_blank\" href=\"https://scikit-learn.org/1.6/modules/generated/sklearn.pipeline.Pipeline.html\">?<span>Documentation for Pipeline</span></a><span class=\"sk-estimator-doc-link fitted\">i<span>Fitted</span></span></div></label><div class=\"sk-toggleable__content fitted\"><pre>Pipeline(steps=[(&#x27;bow&#x27;, CountVectorizer()), (&#x27;tfidf&#x27;, TfidfTransformer()),\n",
       "                (&#x27;classifier&#x27;, LogisticRegression(random_state=101))])</pre></div> </div></div><div class=\"sk-serial\"><div class=\"sk-item\"><div class=\"sk-estimator fitted sk-toggleable\"><input class=\"sk-toggleable__control sk-hidden--visually\" id=\"sk-estimator-id-6\" type=\"checkbox\" ><label for=\"sk-estimator-id-6\" class=\"sk-toggleable__label fitted sk-toggleable__label-arrow\"><div><div>CountVectorizer</div></div><div><a class=\"sk-estimator-doc-link fitted\" rel=\"noreferrer\" target=\"_blank\" href=\"https://scikit-learn.org/1.6/modules/generated/sklearn.feature_extraction.text.CountVectorizer.html\">?<span>Documentation for CountVectorizer</span></a></div></label><div class=\"sk-toggleable__content fitted\"><pre>CountVectorizer()</pre></div> </div></div><div class=\"sk-item\"><div class=\"sk-estimator fitted sk-toggleable\"><input class=\"sk-toggleable__control sk-hidden--visually\" id=\"sk-estimator-id-7\" type=\"checkbox\" ><label for=\"sk-estimator-id-7\" class=\"sk-toggleable__label fitted sk-toggleable__label-arrow\"><div><div>TfidfTransformer</div></div><div><a class=\"sk-estimator-doc-link fitted\" rel=\"noreferrer\" target=\"_blank\" href=\"https://scikit-learn.org/1.6/modules/generated/sklearn.feature_extraction.text.TfidfTransformer.html\">?<span>Documentation for TfidfTransformer</span></a></div></label><div class=\"sk-toggleable__content fitted\"><pre>TfidfTransformer()</pre></div> </div></div><div class=\"sk-item\"><div class=\"sk-estimator fitted sk-toggleable\"><input class=\"sk-toggleable__control sk-hidden--visually\" id=\"sk-estimator-id-8\" type=\"checkbox\" ><label for=\"sk-estimator-id-8\" class=\"sk-toggleable__label fitted sk-toggleable__label-arrow\"><div><div>LogisticRegression</div></div><div><a class=\"sk-estimator-doc-link fitted\" rel=\"noreferrer\" target=\"_blank\" href=\"https://scikit-learn.org/1.6/modules/generated/sklearn.linear_model.LogisticRegression.html\">?<span>Documentation for LogisticRegression</span></a></div></label><div class=\"sk-toggleable__content fitted\"><pre>LogisticRegression(random_state=101)</pre></div> </div></div></div></div></div></div>"
      ],
      "text/plain": [
       "Pipeline(steps=[('bow', CountVectorizer()), ('tfidf', TfidfTransformer()),\n",
       "                ('classifier', LogisticRegression(random_state=101))])"
      ]
     },
     "execution_count": 110,
     "metadata": {},
     "output_type": "execute_result"
    }
   ],
   "source": [
    "#Logistic Regression Model\n",
    "#Model used for the app\n",
    "\n",
    "from sklearn.linear_model import LogisticRegression\n",
    "from sklearn.pipeline import Pipeline\n",
    "from bs4 import BeautifulSoup\n",
    "\n",
    "pipeline = Pipeline([\n",
    "                     ('bow', CountVectorizer(analyzer='word')),  # strings to token integer counts\n",
    "                     ('tfidf', TfidfTransformer()),  # integer counts to weighted TF-IDF scores\n",
    "                     ('classifier', LogisticRegression(random_state=101)),  # train on TF-IDF vectors\n",
    "])\n",
    "\n",
    "pipeline.fit(X_train,y_train)"
   ]
  },
  {
   "cell_type": "code",
   "execution_count": 112,
   "metadata": {
    "colab": {
     "base_uri": "https://localhost:8080/",
     "height": 298
    },
    "colab_type": "code",
    "id": "yOOzxEPmKDmF",
    "outputId": "20a657b9-e0e0-4813-f354-53276c6e78cc"
   },
   "outputs": [
    {
     "name": "stdout",
     "output_type": "stream",
     "text": [
      "Classification Report:\n",
      "Accuracy :  93.09\n",
      "\n",
      "False Negative Rate :  6.28\n",
      "\n",
      "False Postive Rate :  7.53\n",
      "\n",
      "              precision    recall  f1-score   support\n",
      "\n",
      "    negative       0.94      0.92      0.93     19565\n",
      "    positive       0.93      0.94      0.93     19435\n",
      "\n",
      "    accuracy                           0.93     39000\n",
      "   macro avg       0.93      0.93      0.93     39000\n",
      "weighted avg       0.93      0.93      0.93     39000\n",
      "\n"
     ]
    }
   ],
   "source": [
    "predictions = pipeline.predict(X_train)\n",
    "pred(predictions,y_train)"
   ]
  },
  {
   "cell_type": "code",
   "execution_count": 113,
   "metadata": {},
   "outputs": [
    {
     "name": "stdout",
     "output_type": "stream",
     "text": [
      "Classification Report:\n",
      "Accuracy :  90.01\n",
      "\n",
      "False Negative Rate :  8.93\n",
      "\n",
      "False Postive Rate :  11.08\n",
      "\n",
      "              precision    recall  f1-score   support\n",
      "\n",
      "    negative       0.91      0.89      0.90      5435\n",
      "    positive       0.89      0.91      0.90      5565\n",
      "\n",
      "    accuracy                           0.90     11000\n",
      "   macro avg       0.90      0.90      0.90     11000\n",
      "weighted avg       0.90      0.90      0.90     11000\n",
      "\n"
     ]
    }
   ],
   "source": [
    "#Test set results\n",
    "predictions = pipeline.predict(X_test)\n",
    "pred(predictions,y_test)"
   ]
  },
  {
   "cell_type": "code",
   "execution_count": 108,
   "metadata": {
    "colab": {
     "base_uri": "https://localhost:8080/",
     "height": 292
    },
    "colab_type": "code",
    "id": "Ln6S93GfLMRe",
    "outputId": "011db99e-8b50-4266-f18c-fff9c68f8c34"
   },
   "outputs": [
    {
     "data": {
      "image/png": "[encoded data removed]",
      "text/plain": [
       "<Figure size 640x480 with 2 Axes>"
      ]
     },
     "metadata": {},
     "output_type": "display_data"
    }
   ],
   "source": [
    "#Plot Confusion Matrix for train\n",
    "\n",
    "from sklearn.metrics import plot_confusion_matrix\n",
    "\n",
    "titles_options = [(\"Confusion Matrix Train\", None)]\n",
    "for title, normalize in titles_options:\n",
    "    disp = plot_confusion_matrix(pipeline, X_train, y_train, values_format='d', \n",
    "                                 xticks_rotation='vertical')\n",
    "    disp.ax_.set_title(title)\n",
    "    disp.ax_.set_ylabel(\"Real Sentiment\") \n",
    "    disp.ax_.set_xlabel(\"Predicted Sentiment\") "
   ]
  },
  {
   "cell_type": "code",
   "execution_count": 107,
   "metadata": {
    "colab": {
     "base_uri": "https://localhost:8080/",
     "height": 292
    },
    "colab_type": "code",
    "id": "YwYAcnNZLwrk",
    "outputId": "d3ff4eb5-8ee5-4c40-c25d-9ff3db10ca1d"
   },
   "outputs": [
    {
     "data": {
      "image/png": "[encoded data removed]",
      "text/plain": [
       "<Figure size 640x480 with 2 Axes>"
      ]
     },
     "metadata": {},
     "output_type": "display_data"
    }
   ],
   "source": [
    "# Plot Confusion Matrix for test\n",
    "titles_options = [(\"Confusion Matrix Test\", None)]\n",
    "for title, normalize in titles_options:\n",
    "    disp = ConfusionMatrixDisplay.from_estimator(pipeline, X_test, y_test, values_format='d', \n",
    "                                                xticks_rotation='vertical')\n",
    "    disp.ax_.set_title(title) \n",
    "    disp.ax_.set_ylabel(\"Real Sentiment\") \n",
    "    disp.ax_.set_xlabel(\"Predicted Sentiment\") "
   ]
  },
  {
   "cell_type": "markdown",
   "metadata": {},
   "source": [
    "Hyperparameter Tuning:"
   ]
  },
  {
   "cell_type": "code",
   "execution_count": 133,
   "metadata": {},
   "outputs": [
    {
     "name": "stdout",
     "output_type": "stream",
     "text": [
      "Fitting 5 folds for each of 10 candidates, totalling 50 fits\n",
      "[CV] END ..................classifier__C=0.31489116479568624; total time=  27.1s\n",
      "[CV] END ..................classifier__C=0.31489116479568624; total time=  26.6s\n",
      "[CV] END ..................classifier__C=0.31489116479568624; total time=  25.5s\n",
      "[CV] END ..................classifier__C=0.31489116479568624; total time=  26.1s\n",
      "[CV] END ..................classifier__C=0.31489116479568624; total time=  25.6s\n",
      "[CV] END ...................classifier__C=63.512210106407046; total time=  24.9s\n",
      "[CV] END ...................classifier__C=63.512210106407046; total time=  26.2s\n",
      "[CV] END ...................classifier__C=63.512210106407046; total time=  25.6s\n",
      "[CV] END ...................classifier__C=63.512210106407046; total time=  25.6s\n",
      "[CV] END ...................classifier__C=63.512210106407046; total time=  26.4s\n",
      "[CV] END ....................classifier__C=8.471801418819979; total time=  25.4s\n",
      "[CV] END ....................classifier__C=8.471801418819979; total time=  27.4s\n",
      "[CV] END ....................classifier__C=8.471801418819979; total time=  25.7s\n",
      "[CV] END ....................classifier__C=8.471801418819979; total time=  25.1s\n",
      "[CV] END ....................classifier__C=8.471801418819979; total time=  26.0s\n",
      "[CV] END ....................classifier__C=2.481040974867813; total time=  26.0s\n",
      "[CV] END ....................classifier__C=2.481040974867813; total time=  26.0s\n",
      "[CV] END ....................classifier__C=2.481040974867813; total time=  26.7s\n",
      "[CV] END ....................classifier__C=2.481040974867813; total time=  25.7s\n",
      "[CV] END ....................classifier__C=2.481040974867813; total time=  25.3s\n",
      "[CV] END ..................classifier__C=0.04207988669606638; total time=  26.0s\n",
      "[CV] END ..................classifier__C=0.04207988669606638; total time=  25.9s\n",
      "[CV] END ..................classifier__C=0.04207988669606638; total time=  26.5s\n",
      "[CV] END ..................classifier__C=0.04207988669606638; total time=  26.2s\n",
      "[CV] END ..................classifier__C=0.04207988669606638; total time=  24.9s\n",
      "[CV] END .................classifier__C=0.042070539502879395; total time=  25.6s\n",
      "[CV] END .................classifier__C=0.042070539502879395; total time=  25.4s\n",
      "[CV] END .................classifier__C=0.042070539502879395; total time=  24.9s\n",
      "[CV] END .................classifier__C=0.042070539502879395; total time=  27.2s\n",
      "[CV] END .................classifier__C=0.042070539502879395; total time=  27.2s\n",
      "[CV] END .................classifier__C=0.017073967431528128; total time=  25.5s\n",
      "[CV] END .................classifier__C=0.017073967431528128; total time=  28.5s\n",
      "[CV] END .................classifier__C=0.017073967431528128; total time=  27.0s\n",
      "[CV] END .................classifier__C=0.017073967431528128; total time=  27.9s\n",
      "[CV] END .................classifier__C=0.017073967431528128; total time=  24.8s\n",
      "[CV] END ...................classifier__C=29.154431891537552; total time=  26.6s\n",
      "[CV] END ...................classifier__C=29.154431891537552; total time=  30.3s\n",
      "[CV] END ...................classifier__C=29.154431891537552; total time=  27.3s\n",
      "[CV] END ...................classifier__C=29.154431891537552; total time=  28.6s\n",
      "[CV] END ...................classifier__C=29.154431891537552; total time=  31.5s\n",
      "[CV] END ...................classifier__C=2.5378155082656657; total time=  27.2s\n",
      "[CV] END ...................classifier__C=2.5378155082656657; total time=  25.2s\n",
      "[CV] END ...................classifier__C=2.5378155082656657; total time=  26.4s\n",
      "[CV] END ...................classifier__C=2.5378155082656657; total time=  25.1s\n",
      "[CV] END ...................classifier__C=2.5378155082656657; total time=  27.9s\n",
      "[CV] END .....................classifier__C=6.79657809075816; total time=  30.8s\n",
      "[CV] END .....................classifier__C=6.79657809075816; total time=  30.4s\n",
      "[CV] END .....................classifier__C=6.79657809075816; total time=  28.3s\n",
      "[CV] END .....................classifier__C=6.79657809075816; total time=  29.4s\n",
      "[CV] END .....................classifier__C=6.79657809075816; total time=  33.7s\n",
      "Best C: 2.481040974867813\n",
      "Best Cross-Validation Accuracy: 0.8971794871794871\n",
      "Classification Report for Tuned Logistic Regression (Test Set):\n",
      "Classification Report:\n",
      "Accuracy :  90.19\n",
      "\n",
      "False Negative Rate :  8.59\n",
      "\n",
      "False Postive Rate :  11.06\n",
      "\n",
      "              precision    recall  f1-score   support\n",
      "\n",
      "    negative       0.91      0.89      0.90      5435\n",
      "    positive       0.89      0.91      0.90      5565\n",
      "\n",
      "    accuracy                           0.90     11000\n",
      "   macro avg       0.90      0.90      0.90     11000\n",
      "weighted avg       0.90      0.90      0.90     11000\n",
      "\n"
     ]
    }
   ],
   "source": [
    "from sklearn.model_selection import RandomizedSearchCV\n",
    "from scipy.stats import loguniform\n",
    "\n",
    "param_dist = {'classifier__C': loguniform(0.01, 100)}\n",
    "random_search = RandomizedSearchCV(\n",
    "    pipeline_lr,\n",
    "    param_dist,\n",
    "    n_iter=10,  # Number of samples\n",
    "    cv=5,\n",
    "    scoring='accuracy',\n",
    "    n_jobs=1,\n",
    "    verbose=2,\n",
    "    random_state=42\n",
    ")\n",
    "random_search.fit(X_train, y_train)\n",
    "print(\"Best C:\", random_search.best_params_['classifier__C'])\n",
    "print(\"Best Cross-Validation Accuracy:\", random_search.best_score_)\n",
    "predictions_best = random_search.best_estimator_.predict(X_test)\n",
    "print(\"Classification Report for Tuned Logistic Regression (Test Set):\")\n",
    "pred(predictions_best, y_test)"
   ]
  },
  {
   "cell_type": "markdown",
   "metadata": {
    "colab_type": "text",
    "id": "_a1jVkXPPoVo"
   },
   "source": [
    "More Models:"
   ]
  },
  {
   "cell_type": "code",
   "execution_count": 103,
   "metadata": {
    "colab": {},
    "colab_type": "code",
    "id": "6s5KRrYcP76n"
   },
   "outputs": [
    {
     "name": "stdout",
     "output_type": "stream",
     "text": [
      "Classification Report:\n",
      "Accuracy :  88.34\n",
      "\n",
      "False Negative Rate :  8.31\n",
      "\n",
      "False Postive Rate :  14.99\n",
      "\n",
      "              precision    recall  f1-score   support\n",
      "\n",
      "    negative       0.91      0.85      0.88     19565\n",
      "    positive       0.86      0.92      0.89     19435\n",
      "\n",
      "    accuracy                           0.88     39000\n",
      "   macro avg       0.89      0.88      0.88     39000\n",
      "weighted avg       0.89      0.88      0.88     39000\n",
      "\n"
     ]
    }
   ],
   "source": [
    "#Decision Tree\n",
    "\n",
    "from sklearn.tree import DecisionTreeClassifier\n",
    "from sklearn.ensemble import RandomForestClassifier\n",
    "\n",
    "pipeline = Pipeline([\n",
    "    ('bow', CountVectorizer(analyzer=clean_text)),  # strings to token integer counts\n",
    "    ('tfidf', TfidfTransformer()),  # integer counts to weighted TF-IDF scores\n",
    "    ('classifier', DecisionTreeClassifier(max_depth=40, min_samples_leaf=5, random_state=42)),  # train on TF-IDF vectors \n",
    "])\n",
    "\n",
    "pipeline.fit(X_train,y_train)\n",
    "predictions = pipeline.predict(X_train)\n",
    "pred(predictions,y_train)"
   ]
  },
  {
   "cell_type": "code",
   "execution_count": 115,
   "metadata": {},
   "outputs": [
    {
     "name": "stdout",
     "output_type": "stream",
     "text": [
      "Classification Report for KNN (Training Set):\n",
      "Classification Report:\n",
      "Accuracy :  88.37\n",
      "\n",
      "False Negative Rate :  7.4\n",
      "\n",
      "False Postive Rate :  15.82\n",
      "\n",
      "              precision    recall  f1-score   support\n",
      "\n",
      "    negative       0.92      0.84      0.88     19565\n",
      "    positive       0.85      0.93      0.89     19435\n",
      "\n",
      "    accuracy                           0.88     39000\n",
      "   macro avg       0.89      0.88      0.88     39000\n",
      "weighted avg       0.89      0.88      0.88     39000\n",
      "\n",
      "\n",
      "Classification Report for KNN (Test Set):\n",
      "Classification Report:\n",
      "Accuracy :  77.37\n",
      "\n",
      "False Negative Rate :  16.19\n",
      "\n",
      "False Postive Rate :  29.22\n",
      "\n",
      "              precision    recall  f1-score   support\n",
      "\n",
      "    negative       0.81      0.71      0.76      5435\n",
      "    positive       0.75      0.84      0.79      5565\n",
      "\n",
      "    accuracy                           0.77     11000\n",
      "   macro avg       0.78      0.77      0.77     11000\n",
      "weighted avg       0.78      0.77      0.77     11000\n",
      "\n"
     ]
    }
   ],
   "source": [
    "# KNN Pipeline\n",
    "from sklearn.neighbors import KNeighborsClassifier\n",
    "from sklearn.pipeline import Pipeline\n",
    "from sklearn.feature_extraction.text import CountVectorizer, TfidfTransformer\n",
    "from sklearn.metrics import accuracy_score, classification_report, confusion_matrix\n",
    "pipeline_knn = Pipeline([\n",
    "    ('bow', CountVectorizer(analyzer=clean_text)),\n",
    "    ('tfidf', TfidfTransformer()),\n",
    "    ('classifier', KNeighborsClassifier(n_neighbors=3))\n",
    "])\n",
    "\n",
    "\n",
    "pipeline_knn.fit(X_train, y_train)\n",
    "predictions_knn_train = pipeline_knn.predict(X_train)\n",
    "print(\"Classification Report for KNN (Training Set):\")\n",
    "pred(predictions_knn_train, y_train)\n",
    "\n",
    "\n",
    "predictions_knn_test = pipeline_knn.predict(X_test)\n",
    "print(\"\\nClassification Report for KNN (Test Set):\")\n",
    "pred(predictions_knn_test, y_test)"
   ]
  },
  {
   "cell_type": "code",
   "execution_count": null,
   "metadata": {},
   "outputs": [],
   "source": []
  }
 ],
 "metadata": {
  "colab": {
   "authorship_tag": "ABX9TyNvnEFdYWJtheo+HepFuV6E",
   "include_colab_link": true,
   "name": "Unit2-Build.ipynb",
   "provenance": []
  },
  "kernelspec": {
   "display_name": "Python 3 (ipykernel)",
   "language": "python",
   "name": "python3"
  },
  "language_info": {
   "codemirror_mode": {
    "name": "ipython",
    "version": 3
   },
   "file_extension": ".py",
   "mimetype": "text/x-python",
   "name": "python",
   "nbconvert_exporter": "python",
   "pygments_lexer": "ipython3",
   "version": "3.11.7"
  },
  "widgets": {
   "application/vnd.jupyter.widget-state+json": {
    "state": {},
    "version_major": 2,
    "version_minor": 0
   }
  }
 },
 "nbformat": 4,
 "nbformat_minor": 4
}
